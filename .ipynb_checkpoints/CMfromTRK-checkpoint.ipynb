{
 "cells": [
  {
   "cell_type": "code",
   "execution_count": 17,
   "metadata": {
    "collapsed": true,
    "pycharm": {
     "name": "#%%\n"
    }
   },
   "outputs": [],
   "source": [
    "import numpy as np\n",
    "from dipy.io.stateful_tractogram import Space, StatefulTractogram\n",
    "from dipy.io.streamline import load_tractogram, save_tractogram\n",
    "from dipy.io.utils import (create_nifti_header, get_reference_info,\n",
    "                           is_header_compatible)\n",
    "import nibabel as nib\n",
    "from dipy.tracking.streamline import select_random_set_of_streamlines\n",
    "from dipy.tracking.utils import density_map\n",
    "\n",
    "from dipy.data.fetcher import (fetch_file_formats,\n",
    "                               get_file_formats)"
   ]
  },
  {
   "cell_type": "markdown",
   "metadata": {},
   "source": [
    "Load the tractogram with its header"
   ]
  },
  {
   "cell_type": "code",
   "execution_count": 3,
   "metadata": {
    "pycharm": {
     "name": "#%%\n"
    }
   },
   "outputs": [],
   "source": [
    "kable = load_tractogram('Track0.trk', 'same')"
   ]
  },
  {
   "cell_type": "markdown",
   "metadata": {},
   "source": [
    "Print its info"
   ]
  },
  {
   "cell_type": "code",
   "execution_count": 4,
   "metadata": {
    "pycharm": {
     "name": "#%%\n"
    }
   },
   "outputs": [
    {
     "name": "stdout",
     "output_type": "stream",
     "text": [
      "Affine: \n",
      "[[-1.000000 -0.000000 -0.000000 64.644043]\n",
      " [0.000000 1.000000 -0.000000 -81.753418]\n",
      " [-0.000000 0.000000 1.000000 -82.853210]\n",
      " [0.000000 0.000000 0.000000 1.000000]]\n",
      "dimensions: [138 168 152]\n",
      "voxel_sizes: [1.00 1.00 1.00]\n",
      "voxel_order: LAS\n",
      "streamline_count: 2069089\n",
      "point_count: 47957753\n",
      "data_per_streamline keys: []\n",
      "data_per_point keys: []\n"
     ]
    }
   ],
   "source": [
    "print(kable)"
   ]
  },
  {
   "cell_type": "code",
   "execution_count": 15,
   "metadata": {
    "pycharm": {
     "name": "#%%\n"
    }
   },
   "outputs": [],
   "source": [
    "affine, dimensions, voxel_sizes, voxel_order = get_reference_info(kable)"
   ]
  },
  {
   "cell_type": "markdown",
   "metadata": {},
   "source": [
    "Now load the brain probability map of the MNI152 atlas"
   ]
  },
  {
   "cell_type": "code",
   "execution_count": 19,
   "metadata": {
    "pycharm": {
     "name": "#%%\n"
    }
   },
   "outputs": [
    {
     "name": "stdout",
     "output_type": "stream",
     "text": [
      "Loaded\n"
     ]
    }
   ],
   "source": [
    "mni = nib.load('t1_brain_probability_map.nii.gz')\n",
    "print('Loaded')"
   ]
  }
 ],
 "metadata": {
  "kernelspec": {
   "display_name": "Python 3 (ipykernel)",
   "language": "python",
   "name": "python3"
  },
  "language_info": {
   "codemirror_mode": {
    "name": "ipython",
    "version": 3
   },
   "file_extension": ".py",
   "mimetype": "text/x-python",
   "name": "python",
   "nbconvert_exporter": "python",
   "pygments_lexer": "ipython3",
   "version": "3.8.12"
  }
 },
 "nbformat": 4,
 "nbformat_minor": 1
}
