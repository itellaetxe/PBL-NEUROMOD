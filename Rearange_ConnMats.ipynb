{
 "cells": [
  {
   "cell_type": "code",
   "execution_count": 42,
   "metadata": {
    "collapsed": true
   },
   "outputs": [],
   "source": [
    "from PBL_DWI_lib.load_all_ConnMats import load_all_ConnMats\n",
    "import numpy as np\n",
    "import matplotlib.pyplot as plt"
   ]
  },
  {
   "cell_type": "code",
   "execution_count": 43,
   "outputs": [
    {
     "data": {
      "text/plain": "(85, 247, 247, 1)"
     },
     "execution_count": 43,
     "metadata": {},
     "output_type": "execute_result"
    }
   ],
   "source": [
    "method = 'upper_raw'\n",
    "\n",
    "base_path = \"D:/PROCESSED_ADNI_CONTROL_GROUP/results/\"\n",
    "input_struct_NC = load_all_ConnMats(base_path, method)\n",
    "\n",
    "base_path = \"D:/PROCESSED_ADNI_AD_GROUP/PROCESSED_AD_GROUP/\"\n",
    "input_struct_AD = load_all_ConnMats(base_path, method)\n",
    "\n",
    "x_train = np.concatenate((input_struct_NC, input_struct_AD), axis=0)\n",
    "x_train.shape"
   ],
   "metadata": {
    "collapsed": false,
    "pycharm": {
     "name": "#%%\n"
    }
   }
  },
  {
   "cell_type": "code",
   "execution_count": 44,
   "outputs": [],
   "source": [
    "def rearange_ConnMats(df, num_of_parcels):\n",
    "    df = np.zeros((x_train.shape[0], x_train.shape[1] * x_train.shape[2]))\n",
    "\n",
    "    for i in range(0, x_train.shape[0], 1):\n",
    "        tmp_vect = np.reshape(x_train[i, :, :, 0], newshape=(1, x_train.shape[1] * x_train.shape[2]))\n",
    "        df[i, :] = tmp_vect\n",
    "\n",
    "    col_sums = np.sum(df, axis=0)\n",
    "    ind = np.argpartition(col_sums, kth=-num_of_parcels)[-num_of_parcels:]\n",
    "    # col_sums[ind]\n",
    "\n",
    "    return df[:, ind]"
   ],
   "metadata": {
    "collapsed": false,
    "pycharm": {
     "name": "#%%\n"
    }
   }
  },
  {
   "cell_type": "code",
   "execution_count": 15,
   "outputs": [],
   "source": [
    "df = np.zeros((x_train.shape[0], x_train.shape[1] * x_train.shape[2]))\n",
    "for i in range(0, x_train.shape[0], 1):\n",
    "    tmp_vect = np.reshape(x_train[i, :, :, 0], newshape=(1, x_train.shape[1] * x_train.shape[2]))\n",
    "    df[i, :] = tmp_vect\n",
    "\n",
    "df.shape"
   ],
   "metadata": {
    "collapsed": false,
    "pycharm": {
     "name": "#%%\n"
    }
   }
  },
  {
   "cell_type": "code",
   "execution_count": 31,
   "outputs": [
    {
     "data": {
      "text/plain": "array([1.0712172e+07, 2.9105000e+04, 6.9411000e+04, ..., 0.0000000e+00,\n       0.0000000e+00, 1.5000000e+01])"
     },
     "execution_count": 31,
     "metadata": {},
     "output_type": "execute_result"
    }
   ],
   "source": [
    "col_sums = np.sum(df, axis=0)\n",
    "col_sums"
   ],
   "metadata": {
    "collapsed": false,
    "pycharm": {
     "name": "#%%\n"
    }
   }
  },
  {
   "cell_type": "code",
   "execution_count": 38,
   "outputs": [
    {
     "data": {
      "text/plain": "array([   91679.,    94410.,    99236.,    92310.,    91939.,    99446.,\n         125007.,   122549.,   137222.,   160288.,   128143.,   112201.,\n         111843.,   121171.,   152488.,   100476.,   108542.,   119717.,\n         162327.,   161595.,   124177.,   141268.,   134971.,   134569.,\n         124046.,   159949.,   109954.,   139537.,   111894.,   153687.,\n         107526.,   110126.,   102965.,   105209.,   131514.,   116419.,\n         131343.,   164584.,   185707.,   207466.,   187836.,   216541.,\n         279593.,   198491.,   171235.,   266100.,   409036.,   165013.,\n         230098., 10712172.])"
     },
     "execution_count": 38,
     "metadata": {},
     "output_type": "execute_result"
    }
   ],
   "source": [
    "N = 50\n",
    "ind = np.argpartition(col_sums, kth=-N)[-N:]\n",
    "col_sums[ind]"
   ],
   "metadata": {
    "collapsed": false,
    "pycharm": {
     "name": "#%%\n"
    }
   }
  },
  {
   "cell_type": "code",
   "execution_count": 40,
   "outputs": [
    {
     "data": {
      "text/plain": "array([[   494.,    233.,    566., ...,   2841.,   1978., 160736.],\n       [   698.,    572.,   2218., ...,   2678.,   2491., 155828.],\n       [  1976.,   2151.,    863., ...,   2047.,   1912., 120925.],\n       ...,\n       [   684.,   2016.,   1294., ...,   1348.,   1473., 110936.],\n       [  3701.,    972.,   4547., ...,    645.,    951., 146345.],\n       [  1092.,    369.,    947., ...,   1052.,   5939.,  97997.]])"
     },
     "execution_count": 40,
     "metadata": {},
     "output_type": "execute_result"
    }
   ],
   "source": [
    "df[:, ind]"
   ],
   "metadata": {
    "collapsed": false,
    "pycharm": {
     "name": "#%%\n"
    }
   }
  },
  {
   "cell_type": "code",
   "execution_count": 45,
   "outputs": [
    {
     "data": {
      "text/plain": "array([[   494.,    233.,    566., ...,   2841.,   1978., 160736.],\n       [   698.,    572.,   2218., ...,   2678.,   2491., 155828.],\n       [  1976.,   2151.,    863., ...,   2047.,   1912., 120925.],\n       ...,\n       [   684.,   2016.,   1294., ...,   1348.,   1473., 110936.],\n       [  3701.,    972.,   4547., ...,    645.,    951., 146345.],\n       [  1092.,    369.,    947., ...,   1052.,   5939.,  97997.]])"
     },
     "execution_count": 45,
     "metadata": {},
     "output_type": "execute_result"
    }
   ],
   "source": [
    "df_new = rearange_ConnMats(df, 50)\n",
    "df_new"
   ],
   "metadata": {
    "collapsed": false,
    "pycharm": {
     "name": "#%%\n"
    }
   }
  },
  {
   "cell_type": "code",
   "execution_count": null,
   "outputs": [],
   "source": [],
   "metadata": {
    "collapsed": false,
    "pycharm": {
     "name": "#%%\n"
    }
   }
  }
 ],
 "metadata": {
  "kernelspec": {
   "display_name": "Python 3",
   "language": "python",
   "name": "python3"
  },
  "language_info": {
   "codemirror_mode": {
    "name": "ipython",
    "version": 2
   },
   "file_extension": ".py",
   "mimetype": "text/x-python",
   "name": "python",
   "nbconvert_exporter": "python",
   "pygments_lexer": "ipython2",
   "version": "2.7.6"
  }
 },
 "nbformat": 4,
 "nbformat_minor": 0
}